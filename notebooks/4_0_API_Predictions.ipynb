{
 "cells": [
  {
   "cell_type": "code",
   "execution_count": 1,
   "metadata": {},
   "outputs": [
    {
     "name": "stdout",
     "output_type": "stream",
     "text": [
      "Requirement already satisfied: requests in c:\\users\\a_mut\\documents\\github\\etf-stocks\\.venv\\lib\\site-packages (2.29.0)\n",
      "Requirement already satisfied: charset-normalizer<4,>=2 in c:\\users\\a_mut\\documents\\github\\etf-stocks\\.venv\\lib\\site-packages (from requests) (3.1.0)\n",
      "Requirement already satisfied: idna<4,>=2.5 in c:\\users\\a_mut\\documents\\github\\etf-stocks\\.venv\\lib\\site-packages (from requests) (3.4)\n",
      "Requirement already satisfied: urllib3<1.27,>=1.21.1 in c:\\users\\a_mut\\documents\\github\\etf-stocks\\.venv\\lib\\site-packages (from requests) (1.26.15)\n",
      "Requirement already satisfied: certifi>=2017.4.17 in c:\\users\\a_mut\\documents\\github\\etf-stocks\\.venv\\lib\\site-packages (from requests) (2022.12.7)\n"
     ]
    }
   ],
   "source": [
    "! pip install requests"
   ]
  },
  {
   "cell_type": "code",
   "execution_count": 2,
   "metadata": {},
   "outputs": [],
   "source": [
    "import requests"
   ]
  },
  {
   "cell_type": "code",
   "execution_count": 17,
   "metadata": {},
   "outputs": [],
   "source": [
    "BASE_URL = \"https://etf-stock.onrender.com/api\"\n",
    "PREDICTION_ENDPOINT = lambda vol_moving_avg, adj_close_rolling_med, model_type=\"Random Forest\":f\"predict?vol_moving_avg={vol_moving_avg}&adj_close_rolling_med={adj_close_rolling_med}&model_type={model_type}\""
   ]
  },
  {
   "cell_type": "code",
   "execution_count": 18,
   "metadata": {},
   "outputs": [],
   "source": [
    "vol_moving_avg = 2.9\n",
    "adj_close_rolling_med = 22224.0"
   ]
  },
  {
   "cell_type": "code",
   "execution_count": 25,
   "metadata": {},
   "outputs": [],
   "source": [
    "def make_prediction(vol_moving_avg, adj_close_rolling_med):\n",
    "    url = f\"{BASE_URL}/{PREDICTION_ENDPOINT(vol_moving_avg, adj_close_rolling_med)}\"\n",
    "    response = requests.get(url=url)\n",
    "    if response.status_code == 200:\n",
    "        return int(response.content.decode(encoding='utf-8'))\n",
    "    else:\n",
    "        print(f\"url={url} Status code: {response.status_code}\")\n",
    "        return None"
   ]
  },
  {
   "cell_type": "code",
   "execution_count": 27,
   "metadata": {},
   "outputs": [
    {
     "name": "stdout",
     "output_type": "stream",
     "text": [
      "Prediction: 127238\n"
     ]
    }
   ],
   "source": [
    "prediction = make_prediction(vol_moving_avg, adj_close_rolling_med)\n",
    "print(f\"Prediction: {prediction}\")"
   ]
  },
  {
   "cell_type": "code",
   "execution_count": null,
   "metadata": {},
   "outputs": [],
   "source": []
  }
 ],
 "metadata": {
  "kernelspec": {
   "display_name": ".venv",
   "language": "python",
   "name": "python3"
  },
  "language_info": {
   "codemirror_mode": {
    "name": "ipython",
    "version": 3
   },
   "file_extension": ".py",
   "mimetype": "text/x-python",
   "name": "python",
   "nbconvert_exporter": "python",
   "pygments_lexer": "ipython3",
   "version": "3.8.10"
  },
  "orig_nbformat": 4
 },
 "nbformat": 4,
 "nbformat_minor": 2
}
