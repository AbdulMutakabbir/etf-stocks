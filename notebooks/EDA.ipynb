{
 "cells": [
  {
   "cell_type": "code",
   "execution_count": 1,
   "metadata": {},
   "outputs": [],
   "source": [
    "# ! pip install pandas numpy dask tomli pyarrow fastparquet"
   ]
  },
  {
   "cell_type": "code",
   "execution_count": 2,
   "metadata": {},
   "outputs": [],
   "source": [
    "import numpy as np\n",
    "import pandas as pd\n",
    "import dask.dataframe as dd\n",
    "\n",
    "import os\n",
    "import tomli"
   ]
  },
  {
   "cell_type": "markdown",
   "metadata": {},
   "source": [
    "# Load Config"
   ]
  },
  {
   "cell_type": "code",
   "execution_count": 3,
   "metadata": {},
   "outputs": [],
   "source": [
    "CONFIG_FILE_PATH = \"../config.tomli\"\n",
    "\n",
    "with open(CONFIG_FILE_PATH, 'rb') as config_file:\n",
    "    config = tomli.load(config_file)\n",
    "\n",
    "ETF_DATA_DRIVE_PATH = f\"../{config['data']['etfs']}\"\n",
    "STOCK_DATA_DRIVE_PATH = f\"../{config['data']['stocks']}\"\n",
    "PROCESSED_DATA_DRIVE_PATH = f\"../{config['data']['processed']}\"\n",
    "SYMBOLS_FILE_PATH = f\"../{config['data']['symbols']}\"\n",
    "\n",
    "data_dtypes = config['etf_stock_data_type']\n",
    "symbols_dtype = config['symbols_data_types']\n",
    "\n",
    "date_format = config['format']['date_format']\n",
    "\n",
    "SAMPLE_COUNT = 3"
   ]
  },
  {
   "cell_type": "markdown",
   "metadata": {},
   "source": [
    "# ETFs"
   ]
  },
  {
   "cell_type": "code",
   "execution_count": 4,
   "metadata": {},
   "outputs": [
    {
     "name": "stdout",
     "output_type": "stream",
     "text": [
      "ETF file name: SCHB.csv (1653/2165)\n"
     ]
    },
    {
     "data": {
      "text/html": [
       "<div>\n",
       "<style scoped>\n",
       "    .dataframe tbody tr th:only-of-type {\n",
       "        vertical-align: middle;\n",
       "    }\n",
       "\n",
       "    .dataframe tbody tr th {\n",
       "        vertical-align: top;\n",
       "    }\n",
       "\n",
       "    .dataframe thead th {\n",
       "        text-align: right;\n",
       "    }\n",
       "</style>\n",
       "<table border=\"1\" class=\"dataframe\">\n",
       "  <thead>\n",
       "    <tr style=\"text-align: right;\">\n",
       "      <th></th>\n",
       "      <th>Date</th>\n",
       "      <th>Open</th>\n",
       "      <th>High</th>\n",
       "      <th>Low</th>\n",
       "      <th>Close</th>\n",
       "      <th>Adj Close</th>\n",
       "      <th>Volume</th>\n",
       "    </tr>\n",
       "  </thead>\n",
       "  <tbody>\n",
       "    <tr>\n",
       "      <th>0</th>\n",
       "      <td>2009-11-03</td>\n",
       "      <td>25.00</td>\n",
       "      <td>25.01</td>\n",
       "      <td>24.24</td>\n",
       "      <td>24.57</td>\n",
       "      <td>20.626394</td>\n",
       "      <td>504300</td>\n",
       "    </tr>\n",
       "    <tr>\n",
       "      <th>1</th>\n",
       "      <td>2009-11-04</td>\n",
       "      <td>27.00</td>\n",
       "      <td>27.00</td>\n",
       "      <td>24.50</td>\n",
       "      <td>24.60</td>\n",
       "      <td>20.651585</td>\n",
       "      <td>162400</td>\n",
       "    </tr>\n",
       "    <tr>\n",
       "      <th>2</th>\n",
       "      <td>2009-11-05</td>\n",
       "      <td>24.92</td>\n",
       "      <td>25.09</td>\n",
       "      <td>24.73</td>\n",
       "      <td>25.08</td>\n",
       "      <td>21.054543</td>\n",
       "      <td>112400</td>\n",
       "    </tr>\n",
       "  </tbody>\n",
       "</table>\n",
       "</div>"
      ],
      "text/plain": [
       "         Date   Open   High    Low  Close  Adj Close  Volume\n",
       "0  2009-11-03  25.00  25.01  24.24  24.57  20.626394  504300\n",
       "1  2009-11-04  27.00  27.00  24.50  24.60  20.651585  162400\n",
       "2  2009-11-05  24.92  25.09  24.73  25.08  21.054543  112400"
      ]
     },
     "execution_count": 4,
     "metadata": {},
     "output_type": "execute_result"
    }
   ],
   "source": [
    "# get the list of etf files\n",
    "# additionally sort the list to always return the same order.\n",
    "etf_files = sorted(os.listdir(ETF_DATA_DRIVE_PATH))\n",
    "\n",
    "# load a random etf file\n",
    "num_etf = len(etf_files)\n",
    "random_etf_file_index = np.random.randint(0, num_etf-1)\n",
    "etf_file = etf_files[random_etf_file_index]\n",
    "etf_file_path = f\"{ETF_DATA_DRIVE_PATH}/{etf_file}\"\n",
    "random_etf_df = pd.read_csv(etf_file_path, dtype=data_dtypes, parse_dates=['Date'])\n",
    "random_etf_df['Date'] = random_etf_df['Date'].dt.strftime(date_format)\n",
    "\n",
    "# print a sample\n",
    "print(f\"ETF file name: {etf_file} ({random_etf_file_index+1}/{num_etf})\")\n",
    "random_etf_df.head(SAMPLE_COUNT)"
   ]
  },
  {
   "cell_type": "code",
   "execution_count": 5,
   "metadata": {},
   "outputs": [
    {
     "data": {
      "text/plain": [
       "Date          object\n",
       "Open         float64\n",
       "High         float64\n",
       "Low          float64\n",
       "Close        float64\n",
       "Adj Close    float64\n",
       "Volume         int64\n",
       "dtype: object"
      ]
     },
     "execution_count": 5,
     "metadata": {},
     "output_type": "execute_result"
    }
   ],
   "source": [
    "random_etf_df.dtypes"
   ]
  },
  {
   "cell_type": "markdown",
   "metadata": {},
   "source": [
    "# Stocks"
   ]
  },
  {
   "cell_type": "code",
   "execution_count": 6,
   "metadata": {},
   "outputs": [
    {
     "name": "stdout",
     "output_type": "stream",
     "text": [
      "Stock file name: KLXE.csv (2986/5884)\n"
     ]
    },
    {
     "data": {
      "text/html": [
       "<div>\n",
       "<style scoped>\n",
       "    .dataframe tbody tr th:only-of-type {\n",
       "        vertical-align: middle;\n",
       "    }\n",
       "\n",
       "    .dataframe tbody tr th {\n",
       "        vertical-align: top;\n",
       "    }\n",
       "\n",
       "    .dataframe thead th {\n",
       "        text-align: right;\n",
       "    }\n",
       "</style>\n",
       "<table border=\"1\" class=\"dataframe\">\n",
       "  <thead>\n",
       "    <tr style=\"text-align: right;\">\n",
       "      <th></th>\n",
       "      <th>Date</th>\n",
       "      <th>Open</th>\n",
       "      <th>High</th>\n",
       "      <th>Low</th>\n",
       "      <th>Close</th>\n",
       "      <th>Adj Close</th>\n",
       "      <th>Volume</th>\n",
       "    </tr>\n",
       "  </thead>\n",
       "  <tbody>\n",
       "    <tr>\n",
       "      <th>0</th>\n",
       "      <td>2018-08-29</td>\n",
       "      <td>25.00</td>\n",
       "      <td>27.090000</td>\n",
       "      <td>25.000000</td>\n",
       "      <td>27.090000</td>\n",
       "      <td>27.090000</td>\n",
       "      <td>675700</td>\n",
       "    </tr>\n",
       "    <tr>\n",
       "      <th>1</th>\n",
       "      <td>2018-08-30</td>\n",
       "      <td>27.50</td>\n",
       "      <td>28.950001</td>\n",
       "      <td>26.250000</td>\n",
       "      <td>28.440001</td>\n",
       "      <td>28.440001</td>\n",
       "      <td>1069800</td>\n",
       "    </tr>\n",
       "    <tr>\n",
       "      <th>2</th>\n",
       "      <td>2018-08-31</td>\n",
       "      <td>28.85</td>\n",
       "      <td>28.950001</td>\n",
       "      <td>27.799999</td>\n",
       "      <td>28.559999</td>\n",
       "      <td>28.559999</td>\n",
       "      <td>181700</td>\n",
       "    </tr>\n",
       "  </tbody>\n",
       "</table>\n",
       "</div>"
      ],
      "text/plain": [
       "         Date   Open       High        Low      Close  Adj Close   Volume\n",
       "0  2018-08-29  25.00  27.090000  25.000000  27.090000  27.090000   675700\n",
       "1  2018-08-30  27.50  28.950001  26.250000  28.440001  28.440001  1069800\n",
       "2  2018-08-31  28.85  28.950001  27.799999  28.559999  28.559999   181700"
      ]
     },
     "execution_count": 6,
     "metadata": {},
     "output_type": "execute_result"
    }
   ],
   "source": [
    "# get the list of stock files\n",
    "# additionally sort the list to always return the same order.\n",
    "stock_files = sorted(os.listdir(STOCK_DATA_DRIVE_PATH))\n",
    "\n",
    "# load a random stock file\n",
    "num_stocks = len(stock_files)\n",
    "random_stock_file_index = np.random.randint(0, num_stocks-1)\n",
    "stock_file = stock_files[random_stock_file_index]\n",
    "stock_file_path = f\"{STOCK_DATA_DRIVE_PATH}/{stock_file}\"\n",
    "random_stock_df = pd.read_csv(stock_file_path, parse_dates=['Date'])\n",
    "random_stock_df['Date'] = random_stock_df['Date'].dt.strftime(date_format)\n",
    "\n",
    "# print a sample\n",
    "print(f\"Stock file name: {stock_file} ({random_stock_file_index+1}/{num_stocks})\")\n",
    "random_stock_df.head(SAMPLE_COUNT)"
   ]
  },
  {
   "cell_type": "code",
   "execution_count": 7,
   "metadata": {},
   "outputs": [
    {
     "data": {
      "text/plain": [
       "Date          object\n",
       "Open         float64\n",
       "High         float64\n",
       "Low          float64\n",
       "Close        float64\n",
       "Adj Close    float64\n",
       "Volume         int64\n",
       "dtype: object"
      ]
     },
     "execution_count": 7,
     "metadata": {},
     "output_type": "execute_result"
    }
   ],
   "source": [
    "random_stock_df.dtypes"
   ]
  },
  {
   "cell_type": "markdown",
   "metadata": {},
   "source": [
    "# Symbols"
   ]
  },
  {
   "cell_type": "code",
   "execution_count": 8,
   "metadata": {},
   "outputs": [
    {
     "data": {
      "text/html": [
       "<div>\n",
       "<style scoped>\n",
       "    .dataframe tbody tr th:only-of-type {\n",
       "        vertical-align: middle;\n",
       "    }\n",
       "\n",
       "    .dataframe tbody tr th {\n",
       "        vertical-align: top;\n",
       "    }\n",
       "\n",
       "    .dataframe thead th {\n",
       "        text-align: right;\n",
       "    }\n",
       "</style>\n",
       "<table border=\"1\" class=\"dataframe\">\n",
       "  <thead>\n",
       "    <tr style=\"text-align: right;\">\n",
       "      <th></th>\n",
       "      <th>Nasdaq Traded</th>\n",
       "      <th>Symbol</th>\n",
       "      <th>Security Name</th>\n",
       "      <th>Listing Exchange</th>\n",
       "      <th>Market Category</th>\n",
       "      <th>ETF</th>\n",
       "      <th>Round Lot Size</th>\n",
       "      <th>Test Issue</th>\n",
       "      <th>Financial Status</th>\n",
       "      <th>CQS Symbol</th>\n",
       "      <th>NASDAQ Symbol</th>\n",
       "      <th>NextShares</th>\n",
       "    </tr>\n",
       "  </thead>\n",
       "  <tbody>\n",
       "    <tr>\n",
       "      <th>0</th>\n",
       "      <td>Y</td>\n",
       "      <td>A</td>\n",
       "      <td>Agilent Technologies, Inc. Common Stock</td>\n",
       "      <td>N</td>\n",
       "      <td></td>\n",
       "      <td>N</td>\n",
       "      <td>100.0</td>\n",
       "      <td>N</td>\n",
       "      <td>NaN</td>\n",
       "      <td>A</td>\n",
       "      <td>A</td>\n",
       "      <td>N</td>\n",
       "    </tr>\n",
       "    <tr>\n",
       "      <th>1</th>\n",
       "      <td>Y</td>\n",
       "      <td>AA</td>\n",
       "      <td>Alcoa Corporation Common Stock</td>\n",
       "      <td>N</td>\n",
       "      <td></td>\n",
       "      <td>N</td>\n",
       "      <td>100.0</td>\n",
       "      <td>N</td>\n",
       "      <td>NaN</td>\n",
       "      <td>AA</td>\n",
       "      <td>AA</td>\n",
       "      <td>N</td>\n",
       "    </tr>\n",
       "    <tr>\n",
       "      <th>2</th>\n",
       "      <td>Y</td>\n",
       "      <td>AAAU</td>\n",
       "      <td>Perth Mint Physical Gold ETF</td>\n",
       "      <td>P</td>\n",
       "      <td></td>\n",
       "      <td>Y</td>\n",
       "      <td>100.0</td>\n",
       "      <td>N</td>\n",
       "      <td>NaN</td>\n",
       "      <td>AAAU</td>\n",
       "      <td>AAAU</td>\n",
       "      <td>N</td>\n",
       "    </tr>\n",
       "  </tbody>\n",
       "</table>\n",
       "</div>"
      ],
      "text/plain": [
       "  Nasdaq Traded Symbol                            Security Name   \n",
       "0             Y      A  Agilent Technologies, Inc. Common Stock  \\\n",
       "1             Y     AA          Alcoa Corporation Common Stock    \n",
       "2             Y   AAAU             Perth Mint Physical Gold ETF   \n",
       "\n",
       "  Listing Exchange Market Category ETF  Round Lot Size Test Issue   \n",
       "0                N                   N           100.0          N  \\\n",
       "1                N                   N           100.0          N   \n",
       "2                P                   Y           100.0          N   \n",
       "\n",
       "  Financial Status CQS Symbol NASDAQ Symbol NextShares  \n",
       "0              NaN          A             A          N  \n",
       "1              NaN         AA            AA          N  \n",
       "2              NaN       AAAU          AAAU          N  "
      ]
     },
     "execution_count": 8,
     "metadata": {},
     "output_type": "execute_result"
    }
   ],
   "source": [
    "symbols = pd.read_csv(SYMBOLS_FILE_PATH, dtype=symbols_dtype)\n",
    "symbols.head(SAMPLE_COUNT)"
   ]
  },
  {
   "cell_type": "code",
   "execution_count": 9,
   "metadata": {},
   "outputs": [
    {
     "data": {
      "text/plain": [
       "Nasdaq Traded        object\n",
       "Symbol               object\n",
       "Security Name        object\n",
       "Listing Exchange     object\n",
       "Market Category      object\n",
       "ETF                  object\n",
       "Round Lot Size      float64\n",
       "Test Issue           object\n",
       "Financial Status     object\n",
       "CQS Symbol           object\n",
       "NASDAQ Symbol        object\n",
       "NextShares           object\n",
       "dtype: object"
      ]
     },
     "execution_count": 9,
     "metadata": {},
     "output_type": "execute_result"
    }
   ],
   "source": [
    "symbols.dtypes"
   ]
  },
  {
   "cell_type": "code",
   "execution_count": 10,
   "metadata": {},
   "outputs": [],
   "source": [
    "random_etf_df.to_parquet(f\"{PROCESSED_DATA_DRIVE_PATH}/test.parquet\")"
   ]
  },
  {
   "cell_type": "code",
   "execution_count": 11,
   "metadata": {},
   "outputs": [],
   "source": [
    "! pip freeze > ../requirements.txt"
   ]
  },
  {
   "cell_type": "code",
   "execution_count": null,
   "metadata": {},
   "outputs": [],
   "source": []
  }
 ],
 "metadata": {
  "kernelspec": {
   "display_name": ".venv",
   "language": "python",
   "name": "python3"
  },
  "language_info": {
   "codemirror_mode": {
    "name": "ipython",
    "version": 3
   },
   "file_extension": ".py",
   "mimetype": "text/x-python",
   "name": "python",
   "nbconvert_exporter": "python",
   "pygments_lexer": "ipython3",
   "version": "3.8.10"
  },
  "orig_nbformat": 4
 },
 "nbformat": 4,
 "nbformat_minor": 2
}
