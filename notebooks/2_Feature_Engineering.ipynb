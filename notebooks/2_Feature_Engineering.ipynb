{
 "cells": [
  {
   "cell_type": "code",
   "execution_count": 85,
   "metadata": {},
   "outputs": [],
   "source": [
    "# ! pip install pandas tomli matplotlib tqdm"
   ]
  },
  {
   "cell_type": "code",
   "execution_count": 87,
   "metadata": {},
   "outputs": [],
   "source": [
    "from tqdm import tqdm\n",
    "import pandas as pd\n",
    "import tomli"
   ]
  },
  {
   "cell_type": "code",
   "execution_count": 93,
   "metadata": {},
   "outputs": [],
   "source": [
    "# Load Config\n",
    "CONFIG_FILE_PATH = \"../config.tomli\"\n",
    "\n",
    "with open(CONFIG_FILE_PATH, 'rb') as config_file:\n",
    "    config = tomli.load(config_file)\n",
    "\n",
    "ETF_DATA_DRIVE_PATH = f\"../{config['data']['etfs']}\"\n",
    "STOCK_DATA_DRIVE_PATH = f\"../{config['data']['stocks']}\"\n",
    "PROCESSED_DATA_DRIVE_PATH = f\"../{config['data']['processed']}\"\n",
    "ENGINEERED_DATA_DRIVE_PATH = f\"../{config['data']['engineered']}\"\n",
    "SYMBOLS_FILE_PATH = f\"../{config['data']['symbols']}\"\n",
    "\n",
    "DATASET_PATH = f\"{PROCESSED_DATA_DRIVE_PATH}/dataset.parquet\"\n",
    "ENG_DATASET_PATH = f\"{ENGINEERED_DATA_DRIVE_PATH}/dataset.parquet\"\n",
    "\n",
    "data_dtypes = config['etf_stock_data_type']\n",
    "symbols_dtype = config['symbols_data_types']\n",
    "\n",
    "date_format = config['format']['date_format']"
   ]
  },
  {
   "cell_type": "code",
   "execution_count": 91,
   "metadata": {},
   "outputs": [],
   "source": [
    "def get_featured_dataset(security_df:pd.DataFrame)->pd.DataFrame:\n",
    "    security_df = security_df.set_index('Date')\n",
    "    security_df = security_df.resample('D').ffill()\n",
    "    security_df['vol_moving_avg'] = security_df['Volume'].rolling(window=30).mean()\n",
    "    security_df['adj_close_rolling_med'] = security_df['Adj Close'].rolling(window=30).median()\n",
    "    security_df = security_df.reset_index()\n",
    "    return security_df"
   ]
  },
  {
   "cell_type": "code",
   "execution_count": 92,
   "metadata": {},
   "outputs": [],
   "source": [
    "# read dataset\n",
    "dataset = pd.read_parquet(DATASET_PATH)\n",
    "dataset['Date'] = pd.to_datetime(dataset['Date'], format=date_format)"
   ]
  },
  {
   "cell_type": "code",
   "execution_count": 96,
   "metadata": {},
   "outputs": [],
   "source": [
    "%time\n",
    "# get unique securities\n",
    "securities =  dataset['Symbol'].unique()\n",
    "\n",
    "security_dfs = []\n",
    "\n",
    "# loop over all securities to obtain the feature dataset\n",
    "for security in tqdm(securities):\n",
    "    # get data for security\n",
    "    security_df = dataset[dataset['Symbol'] == security]\n",
    "    # get featured dataset\n",
    "    security_df = get_featured_dataset(security_df=security_df)\n",
    "    # append the security df\n",
    "    security_dfs.append(security_df)\n",
    "\n",
    "# merge all dfs to create engineered dataset \n",
    "eng_dataset = pd.concat(security_dfs)\n",
    "del security_dfs\n",
    "\n",
    "# discarding null values \n",
    "eng_dataset = eng_dataset.dropna()\n",
    "\n",
    "# save the engineered dataset\n",
    "eng_dataset.to_parquet(ENG_DATASET_PATH, index=False)"
   ]
  },
  {
   "cell_type": "code",
   "execution_count": 97,
   "metadata": {},
   "outputs": [],
   "source": [
    "# ! pip freeze > ../requirements.txt"
   ]
  },
  {
   "cell_type": "code",
   "execution_count": null,
   "metadata": {},
   "outputs": [],
   "source": []
  }
 ],
 "metadata": {
  "kernelspec": {
   "display_name": ".venv",
   "language": "python",
   "name": "python3"
  },
  "language_info": {
   "codemirror_mode": {
    "name": "ipython",
    "version": 3
   },
   "file_extension": ".py",
   "mimetype": "text/x-python",
   "name": "python",
   "nbconvert_exporter": "python",
   "pygments_lexer": "ipython3",
   "version": "3.8.10"
  },
  "orig_nbformat": 4
 },
 "nbformat": 4,
 "nbformat_minor": 2
}
